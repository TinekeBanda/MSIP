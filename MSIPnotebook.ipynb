{
 "cells": [
  {
   "cell_type": "code",
   "execution_count": 1,
   "metadata": {},
   "outputs": [],
   "source": [
    "import pandas as pd\n",
    "import numpy as np\n",
    "\n",
    "from utils import summary_column_from"
   ]
  },
  {
   "cell_type": "code",
   "execution_count": 2,
   "metadata": {},
   "outputs": [],
   "source": [
    "filename = '../Family_study_MS_csv_export/Family_study_MS_MSIP_NL_export.csv'"
   ]
  },
  {
   "cell_type": "code",
   "execution_count": 3,
   "metadata": {},
   "outputs": [],
   "source": [
    "data = pd.read_csv(filename, sep=\";\")"
   ]
  },
  {
   "cell_type": "markdown",
   "metadata": {},
   "source": [
    "## Select data\n",
    "Select completed surveys only"
   ]
  },
  {
   "cell_type": "code",
   "execution_count": 4,
   "metadata": {},
   "outputs": [],
   "source": [
    "filled_in_surveys = data[data[\"Survey Progress\"] == 100]"
   ]
  },
  {
   "cell_type": "code",
   "execution_count": 5,
   "metadata": {},
   "outputs": [],
   "source": [
    "# Add scale \"Muscle Movement Function\" (MMF)\n",
    "filled_in_surveys = filled_in_surveys.assign(\n",
    "    MMF=summary_column_from(filled_in_surveys, \n",
    "                            [\"MSIP2_1\",\"MSIP3_1\",\"MSIP4_1\",\"MSIP5_1\"]))"
   ]
  },
  {
   "cell_type": "code",
   "execution_count": 6,
   "metadata": {},
   "outputs": [],
   "source": [
    "# Add scale \"Excretion and Reproductive Functions\" (ERF)\n",
    "filled_in_surveys = filled_in_surveys.assign(\n",
    "    ERF=summary_column_from(filled_in_surveys, \n",
    "                            [\"MSIP18_1\",\"MSIP19_1\",\"MSIP29_1\"]))"
   ]
  },
  {
   "cell_type": "code",
   "execution_count": 7,
   "metadata": {},
   "outputs": [],
   "source": [
    "# Add scale \"Mental Function\" (MF)\n",
    "filled_in_surveys = filled_in_surveys.assign(\n",
    "    MF=summary_column_from(filled_in_surveys, \n",
    "                            [\"MSIP24_1\",\"MSIP26_1\",\"MSIP27_1\"]))"
   ]
  },
  {
   "cell_type": "code",
   "execution_count": 8,
   "metadata": {},
   "outputs": [],
   "source": [
    "# Add scale \"Basic Movement Activities\" (BMA)\n",
    "filled_in_surveys = filled_in_surveys.assign(\n",
    "    BMA=summary_column_from(filled_in_surveys, \n",
    "                            [\"MSIP6_1\",\"MSIP7_1\",\"MSIP8_1\",\"MSIP9_1\",\"MSIP10_1\"]))"
   ]
  },
  {
   "cell_type": "code",
   "execution_count": 9,
   "metadata": {},
   "outputs": [],
   "source": [
    "# Add scale \"Activities of Daily Living\" (ADL)\n",
    "filled_in_surveys = filled_in_surveys.assign(\n",
    "    ADL=summary_column_from(filled_in_surveys, \n",
    "                            [\"MSIP11_1\",\"MSIP13_1\",\"MSIP14_1\",\"MSIP15_1\",\"MSIP16_1\",\"MSIP20_1\",\"MSIP21_1\",\"MSIP31_1\"]))"
   ]
  },
  {
   "cell_type": "code",
   "execution_count": 10,
   "metadata": {},
   "outputs": [],
   "source": [
    "# Add scale \"Participation in Life Situation\" (PLS)\n",
    "filled_in_surveys = filled_in_surveys.assign(\n",
    "    PLS=summary_column_from(filled_in_surveys, \n",
    "                            [\"MSIP12_1\",\"MSIP17_1\",\"MSIP28_1\",\"MSIP30_1\",\"MSIP32_1\"]))"
   ]
  },
  {
   "cell_type": "code",
   "execution_count": 11,
   "metadata": {},
   "outputs": [],
   "source": [
    "# Add scale \"Environmental Factors\" (EF)\n",
    "filled_in_surveys = filled_in_surveys.assign(\n",
    "    EF=summary_column_from(filled_in_surveys, \n",
    "                            [\"MSIP33_1\",\"MSIP34_1\",\"MSIP35_1\",\"MSIP36_1\"]))"
   ]
  },
  {
   "cell_type": "code",
   "execution_count": 12,
   "metadata": {},
   "outputs": [],
   "source": [
    "# Add scale \"Fatigue\" (FATIGUE)\n",
    "filled_in_surveys = filled_in_surveys.assign(\n",
    "    FATIGUE=summary_column_from(filled_in_surveys, \n",
    "                            [\"MSIP22_1\"]))"
   ]
  },
  {
   "cell_type": "code",
   "execution_count": 13,
   "metadata": {},
   "outputs": [],
   "source": [
    "# Add scale \"Pain\" (PAIN)\n",
    "filled_in_surveys = filled_in_surveys.assign(\n",
    "    PAIN=summary_column_from(filled_in_surveys, \n",
    "                            [\"MSIP23_1\"]))"
   ]
  },
  {
   "cell_type": "code",
   "execution_count": 14,
   "metadata": {},
   "outputs": [],
   "source": [
    "# Add scale \"Speech\" (SPEECH)\n",
    "filled_in_surveys = filled_in_surveys.assign(\n",
    "    SPEECH=summary_column_from(filled_in_surveys, \n",
    "                            [\"MSIP1_1\"]))"
   ]
  },
  {
   "cell_type": "code",
   "execution_count": 15,
   "metadata": {},
   "outputs": [
    {
     "name": "stderr",
     "output_type": "stream",
     "text": [
      "/Users/tineke/Desktop/Internship/Vragenlijsten/Pythongedoe/utils.py:6: RuntimeWarning: Mean of empty slice\n",
      "  return np.nanmean(selected_columns, axis=1) * len(columns)\n"
     ]
    }
   ],
   "source": [
    "# Add scale \"Seeing\" (SEEING)\n",
    "filled_in_surveys = filled_in_surveys.assign(\n",
    "    SEEING=summary_column_from(filled_in_surveys, \n",
    "                            [\"MSIP25_1\"]))"
   ]
  },
  {
   "cell_type": "code",
   "execution_count": 16,
   "metadata": {},
   "outputs": [],
   "source": [
    "# Sum disability scores (MSIP)\n",
    "filled_in_surveys = filled_in_surveys.assign(\n",
    "    MSIP=summary_column_from(filled_in_surveys, \n",
    "                            [\"MMF\",\"ERF\",\"MF\",\"BMA\",\"ADL\",\"PLS\",\"EF\",\"FATIGUE\",\"PAIN\",\"SPEECH\",\"SEEING\"]))"
   ]
  },
  {
   "cell_type": "code",
   "execution_count": 17,
   "metadata": {},
   "outputs": [
    {
     "name": "stderr",
     "output_type": "stream",
     "text": [
      "/Users/tineke/Desktop/Internship/Vragenlijsten/Pythongedoe/utils.py:6: RuntimeWarning: Mean of empty slice\n",
      "  return np.nanmean(selected_columns, axis=1) * len(columns)\n"
     ]
    }
   ],
   "source": [
    "# Add scale \"Muscle Movement Function Perception\" (MMFP)\n",
    "filled_in_surveys = filled_in_surveys.assign(\n",
    "    MMFP=summary_column_from(filled_in_surveys, \n",
    "                            [\"MSIP2b_1\",\"MSIP3b_1\",\"MSIP4b_1\",\"MSIP5b_1\"], 0))"
   ]
  },
  {
   "cell_type": "code",
   "execution_count": 18,
   "metadata": {},
   "outputs": [
    {
     "name": "stderr",
     "output_type": "stream",
     "text": [
      "/Users/tineke/Desktop/Internship/Vragenlijsten/Pythongedoe/utils.py:6: RuntimeWarning: Mean of empty slice\n",
      "  return np.nanmean(selected_columns, axis=1) * len(columns)\n"
     ]
    }
   ],
   "source": [
    "# Add scale \"Excretion and Reproductive Functions Perception\" (ERFP)\n",
    "filled_in_surveys = filled_in_surveys.assign(\n",
    "    ERFP=summary_column_from(filled_in_surveys, \n",
    "                            [\"MSIP18b_1\",\"MSIP19b_1\",\"MSIP29b_1\"], 0))"
   ]
  },
  {
   "cell_type": "code",
   "execution_count": 19,
   "metadata": {},
   "outputs": [
    {
     "name": "stderr",
     "output_type": "stream",
     "text": [
      "/Users/tineke/Desktop/Internship/Vragenlijsten/Pythongedoe/utils.py:6: RuntimeWarning: Mean of empty slice\n",
      "  return np.nanmean(selected_columns, axis=1) * len(columns)\n"
     ]
    }
   ],
   "source": [
    "# Add scale \"Mental Function Perception\" (MFP)\n",
    "filled_in_surveys = filled_in_surveys.assign(\n",
    "    MFP=summary_column_from(filled_in_surveys, \n",
    "                            [\"MSIP24b_1\",\"MSIP26b_1\",\"MSIP27b_1\"], 0))"
   ]
  },
  {
   "cell_type": "code",
   "execution_count": 20,
   "metadata": {},
   "outputs": [
    {
     "name": "stderr",
     "output_type": "stream",
     "text": [
      "/Users/tineke/Desktop/Internship/Vragenlijsten/Pythongedoe/utils.py:6: RuntimeWarning: Mean of empty slice\n",
      "  return np.nanmean(selected_columns, axis=1) * len(columns)\n"
     ]
    }
   ],
   "source": [
    "# Add scale \"Basic Movement Activities Perception\" (BMAP)\n",
    "filled_in_surveys = filled_in_surveys.assign(\n",
    "    BMAP=summary_column_from(filled_in_surveys, \n",
    "                            [\"MSIP6b_1\",\"MSIP7b_1\",\"MSIP8b_1\",\"MSIP9b_1\",\"MSIP10b_1\"], 0))"
   ]
  },
  {
   "cell_type": "code",
   "execution_count": 21,
   "metadata": {},
   "outputs": [
    {
     "name": "stderr",
     "output_type": "stream",
     "text": [
      "/Users/tineke/Desktop/Internship/Vragenlijsten/Pythongedoe/utils.py:6: RuntimeWarning: Mean of empty slice\n",
      "  return np.nanmean(selected_columns, axis=1) * len(columns)\n"
     ]
    }
   ],
   "source": [
    "# Add scale \"Activities of Daily Living Perception\" (ADLP)\n",
    "filled_in_surveys = filled_in_surveys.assign(\n",
    "    ADLP=summary_column_from(filled_in_surveys, \n",
    "                            [\"MSIP11b_1\",\"MSIP13b_1\",\"MSIP14b_1\",\"MSIP15b_1\",\"MSIP16b_1\",\"MSIP20b_1\",\"MSIP21b_1\",\"MSIP31b_1\"], 0))"
   ]
  },
  {
   "cell_type": "code",
   "execution_count": 22,
   "metadata": {},
   "outputs": [
    {
     "name": "stderr",
     "output_type": "stream",
     "text": [
      "/Users/tineke/Desktop/Internship/Vragenlijsten/Pythongedoe/utils.py:6: RuntimeWarning: Mean of empty slice\n",
      "  return np.nanmean(selected_columns, axis=1) * len(columns)\n"
     ]
    }
   ],
   "source": [
    "# Add scale \"Participation in Life Situation Perception\" (PLSP)\n",
    "filled_in_surveys = filled_in_surveys.assign(\n",
    "    PLSP=summary_column_from(filled_in_surveys, \n",
    "                            [\"MSIP12b_1\",\"MSIP17b_1\",\"MSIP28b_1\",\"MSIP30b_1\",\"MSIP32b_1\"], 0))"
   ]
  },
  {
   "cell_type": "code",
   "execution_count": 23,
   "metadata": {},
   "outputs": [
    {
     "name": "stderr",
     "output_type": "stream",
     "text": [
      "/Users/tineke/Desktop/Internship/Vragenlijsten/Pythongedoe/utils.py:6: RuntimeWarning: Mean of empty slice\n",
      "  return np.nanmean(selected_columns, axis=1) * len(columns)\n"
     ]
    }
   ],
   "source": [
    "# Add scale \"Environmental Factors Perception\" (EFP)\n",
    "filled_in_surveys = filled_in_surveys.assign(\n",
    "    EFP=summary_column_from(filled_in_surveys, \n",
    "                            [\"MSIP33b_1\",\"MSIP34b_1\",\"MSIP35b_1\",\"MSIP36b_1\"], 0))"
   ]
  },
  {
   "cell_type": "code",
   "execution_count": 24,
   "metadata": {},
   "outputs": [
    {
     "name": "stderr",
     "output_type": "stream",
     "text": [
      "/Users/tineke/Desktop/Internship/Vragenlijsten/Pythongedoe/utils.py:6: RuntimeWarning: Mean of empty slice\n",
      "  return np.nanmean(selected_columns, axis=1) * len(columns)\n"
     ]
    }
   ],
   "source": [
    "# Add scale \"Fatigue Perception\" (FATIGUEP)\n",
    "filled_in_surveys = filled_in_surveys.assign(\n",
    "    FATIGUEP=summary_column_from(filled_in_surveys, \n",
    "                            [\"MSIP22b_1\"], 0))"
   ]
  },
  {
   "cell_type": "code",
   "execution_count": 25,
   "metadata": {},
   "outputs": [
    {
     "name": "stderr",
     "output_type": "stream",
     "text": [
      "/Users/tineke/Desktop/Internship/Vragenlijsten/Pythongedoe/utils.py:6: RuntimeWarning: Mean of empty slice\n",
      "  return np.nanmean(selected_columns, axis=1) * len(columns)\n"
     ]
    }
   ],
   "source": [
    "# Add scale \"Pain Perception\" (PAINP)\n",
    "filled_in_surveys = filled_in_surveys.assign(\n",
    "    PAINP=summary_column_from(filled_in_surveys, \n",
    "                            [\"MSIP23b_1\"], 0))"
   ]
  },
  {
   "cell_type": "code",
   "execution_count": 26,
   "metadata": {},
   "outputs": [
    {
     "name": "stderr",
     "output_type": "stream",
     "text": [
      "/Users/tineke/Desktop/Internship/Vragenlijsten/Pythongedoe/utils.py:6: RuntimeWarning: Mean of empty slice\n",
      "  return np.nanmean(selected_columns, axis=1) * len(columns)\n"
     ]
    }
   ],
   "source": [
    "# Add scale \"Speech Perception\" (SPEECHP)\n",
    "filled_in_surveys = filled_in_surveys.assign(\n",
    "    SPEECHP=summary_column_from(filled_in_surveys, \n",
    "                            [\"MSIP1b_1\"], 0))"
   ]
  },
  {
   "cell_type": "code",
   "execution_count": 27,
   "metadata": {},
   "outputs": [
    {
     "name": "stderr",
     "output_type": "stream",
     "text": [
      "/Users/tineke/Desktop/Internship/Vragenlijsten/Pythongedoe/utils.py:6: RuntimeWarning: Mean of empty slice\n",
      "  return np.nanmean(selected_columns, axis=1) * len(columns)\n"
     ]
    }
   ],
   "source": [
    "# Add scale \"Seeing Perception\" (SEEINGP)\n",
    "filled_in_surveys = filled_in_surveys.assign(\n",
    "    SEEINGP=summary_column_from(filled_in_surveys, \n",
    "                            [\"MSIP25b_1\"], 0))"
   ]
  },
  {
   "cell_type": "code",
   "execution_count": 28,
   "metadata": {},
   "outputs": [],
   "source": [
    "# Sum disability scores perception (MSIPP)\n",
    "filled_in_surveys = filled_in_surveys.assign(\n",
    "    MSIPP=summary_column_from(filled_in_surveys, \n",
    "                            [\"MMFP\",\"ERFP\",\"MFP\",\"BMAP\",\"ADLP\",\"PLSP\",\"EFP\",\"FATIGUEP\",\"PAINP\",\"SPEECHP\",\"SEEINGP\"], 0))"
   ]
  },
  {
   "cell_type": "code",
   "execution_count": 29,
   "metadata": {},
   "outputs": [
    {
     "data": {
      "text/html": [
       "<div>\n",
       "<style scoped>\n",
       "    .dataframe tbody tr th:only-of-type {\n",
       "        vertical-align: middle;\n",
       "    }\n",
       "\n",
       "    .dataframe tbody tr th {\n",
       "        vertical-align: top;\n",
       "    }\n",
       "\n",
       "    .dataframe thead th {\n",
       "        text-align: right;\n",
       "    }\n",
       "</style>\n",
       "<table border=\"1\" class=\"dataframe\">\n",
       "  <thead>\n",
       "    <tr style=\"text-align: right;\">\n",
       "      <th></th>\n",
       "      <th>MMF</th>\n",
       "      <th>ERF</th>\n",
       "      <th>MF</th>\n",
       "      <th>BMA</th>\n",
       "      <th>ADL</th>\n",
       "      <th>PLS</th>\n",
       "      <th>EF</th>\n",
       "      <th>FATIGUE</th>\n",
       "      <th>PAIN</th>\n",
       "      <th>SPEECH</th>\n",
       "      <th>SEEING</th>\n",
       "      <th>MSIP</th>\n",
       "    </tr>\n",
       "  </thead>\n",
       "  <tbody>\n",
       "    <tr>\n",
       "      <th>0</th>\n",
       "      <td>3.000000</td>\n",
       "      <td>2.0</td>\n",
       "      <td>1.5</td>\n",
       "      <td>1.0</td>\n",
       "      <td>2.000000</td>\n",
       "      <td>1.000000</td>\n",
       "      <td>1.0</td>\n",
       "      <td>2.0</td>\n",
       "      <td>0.0</td>\n",
       "      <td>1.0</td>\n",
       "      <td>1.0</td>\n",
       "      <td>15.500000</td>\n",
       "    </tr>\n",
       "    <tr>\n",
       "      <th>1</th>\n",
       "      <td>2.000000</td>\n",
       "      <td>0.0</td>\n",
       "      <td>7.5</td>\n",
       "      <td>4.0</td>\n",
       "      <td>2.000000</td>\n",
       "      <td>1.250000</td>\n",
       "      <td>3.0</td>\n",
       "      <td>2.0</td>\n",
       "      <td>1.0</td>\n",
       "      <td>1.0</td>\n",
       "      <td>1.0</td>\n",
       "      <td>24.750000</td>\n",
       "    </tr>\n",
       "    <tr>\n",
       "      <th>2</th>\n",
       "      <td>5.000000</td>\n",
       "      <td>7.0</td>\n",
       "      <td>5.0</td>\n",
       "      <td>5.0</td>\n",
       "      <td>13.714286</td>\n",
       "      <td>7.500000</td>\n",
       "      <td>4.0</td>\n",
       "      <td>4.0</td>\n",
       "      <td>1.0</td>\n",
       "      <td>0.0</td>\n",
       "      <td>1.0</td>\n",
       "      <td>53.214286</td>\n",
       "    </tr>\n",
       "    <tr>\n",
       "      <th>4</th>\n",
       "      <td>6.000000</td>\n",
       "      <td>3.0</td>\n",
       "      <td>1.0</td>\n",
       "      <td>8.0</td>\n",
       "      <td>9.000000</td>\n",
       "      <td>2.500000</td>\n",
       "      <td>5.0</td>\n",
       "      <td>3.0</td>\n",
       "      <td>3.0</td>\n",
       "      <td>1.0</td>\n",
       "      <td>0.0</td>\n",
       "      <td>35.750000</td>\n",
       "    </tr>\n",
       "    <tr>\n",
       "      <th>5</th>\n",
       "      <td>1.000000</td>\n",
       "      <td>0.0</td>\n",
       "      <td>0.0</td>\n",
       "      <td>0.0</td>\n",
       "      <td>1.000000</td>\n",
       "      <td>0.000000</td>\n",
       "      <td>6.0</td>\n",
       "      <td>2.0</td>\n",
       "      <td>1.0</td>\n",
       "      <td>0.0</td>\n",
       "      <td>1.0</td>\n",
       "      <td>12.000000</td>\n",
       "    </tr>\n",
       "    <tr>\n",
       "      <th>6</th>\n",
       "      <td>5.000000</td>\n",
       "      <td>3.0</td>\n",
       "      <td>1.0</td>\n",
       "      <td>10.0</td>\n",
       "      <td>15.000000</td>\n",
       "      <td>2.000000</td>\n",
       "      <td>0.0</td>\n",
       "      <td>1.0</td>\n",
       "      <td>1.0</td>\n",
       "      <td>0.0</td>\n",
       "      <td>0.0</td>\n",
       "      <td>38.000000</td>\n",
       "    </tr>\n",
       "    <tr>\n",
       "      <th>7</th>\n",
       "      <td>3.000000</td>\n",
       "      <td>1.0</td>\n",
       "      <td>1.0</td>\n",
       "      <td>3.0</td>\n",
       "      <td>1.000000</td>\n",
       "      <td>0.000000</td>\n",
       "      <td>5.0</td>\n",
       "      <td>0.0</td>\n",
       "      <td>1.0</td>\n",
       "      <td>0.0</td>\n",
       "      <td>0.0</td>\n",
       "      <td>15.000000</td>\n",
       "    </tr>\n",
       "    <tr>\n",
       "      <th>8</th>\n",
       "      <td>10.000000</td>\n",
       "      <td>1.0</td>\n",
       "      <td>3.0</td>\n",
       "      <td>7.0</td>\n",
       "      <td>13.000000</td>\n",
       "      <td>11.000000</td>\n",
       "      <td>2.0</td>\n",
       "      <td>4.0</td>\n",
       "      <td>3.0</td>\n",
       "      <td>0.0</td>\n",
       "      <td>3.0</td>\n",
       "      <td>57.000000</td>\n",
       "    </tr>\n",
       "    <tr>\n",
       "      <th>9</th>\n",
       "      <td>2.000000</td>\n",
       "      <td>3.0</td>\n",
       "      <td>1.5</td>\n",
       "      <td>2.0</td>\n",
       "      <td>1.000000</td>\n",
       "      <td>1.000000</td>\n",
       "      <td>5.0</td>\n",
       "      <td>2.0</td>\n",
       "      <td>0.0</td>\n",
       "      <td>0.0</td>\n",
       "      <td>1.0</td>\n",
       "      <td>18.500000</td>\n",
       "    </tr>\n",
       "    <tr>\n",
       "      <th>10</th>\n",
       "      <td>5.000000</td>\n",
       "      <td>4.5</td>\n",
       "      <td>3.0</td>\n",
       "      <td>6.0</td>\n",
       "      <td>9.142857</td>\n",
       "      <td>8.750000</td>\n",
       "      <td>6.0</td>\n",
       "      <td>1.0</td>\n",
       "      <td>0.0</td>\n",
       "      <td>1.0</td>\n",
       "      <td>NaN</td>\n",
       "      <td>48.832143</td>\n",
       "    </tr>\n",
       "    <tr>\n",
       "      <th>11</th>\n",
       "      <td>2.666667</td>\n",
       "      <td>3.0</td>\n",
       "      <td>5.0</td>\n",
       "      <td>9.0</td>\n",
       "      <td>8.000000</td>\n",
       "      <td>12.000000</td>\n",
       "      <td>3.0</td>\n",
       "      <td>2.0</td>\n",
       "      <td>0.0</td>\n",
       "      <td>1.0</td>\n",
       "      <td>1.0</td>\n",
       "      <td>41.433333</td>\n",
       "    </tr>\n",
       "    <tr>\n",
       "      <th>12</th>\n",
       "      <td>4.000000</td>\n",
       "      <td>4.0</td>\n",
       "      <td>1.0</td>\n",
       "      <td>7.0</td>\n",
       "      <td>14.000000</td>\n",
       "      <td>7.000000</td>\n",
       "      <td>3.0</td>\n",
       "      <td>1.0</td>\n",
       "      <td>3.0</td>\n",
       "      <td>1.0</td>\n",
       "      <td>1.0</td>\n",
       "      <td>46.000000</td>\n",
       "    </tr>\n",
       "    <tr>\n",
       "      <th>13</th>\n",
       "      <td>4.000000</td>\n",
       "      <td>3.0</td>\n",
       "      <td>1.0</td>\n",
       "      <td>0.0</td>\n",
       "      <td>0.000000</td>\n",
       "      <td>1.666667</td>\n",
       "      <td>5.0</td>\n",
       "      <td>1.0</td>\n",
       "      <td>0.0</td>\n",
       "      <td>0.0</td>\n",
       "      <td>0.0</td>\n",
       "      <td>15.666667</td>\n",
       "    </tr>\n",
       "    <tr>\n",
       "      <th>14</th>\n",
       "      <td>5.000000</td>\n",
       "      <td>3.0</td>\n",
       "      <td>4.0</td>\n",
       "      <td>4.0</td>\n",
       "      <td>3.000000</td>\n",
       "      <td>0.000000</td>\n",
       "      <td>0.0</td>\n",
       "      <td>2.0</td>\n",
       "      <td>1.0</td>\n",
       "      <td>1.0</td>\n",
       "      <td>0.0</td>\n",
       "      <td>23.000000</td>\n",
       "    </tr>\n",
       "    <tr>\n",
       "      <th>15</th>\n",
       "      <td>8.000000</td>\n",
       "      <td>5.0</td>\n",
       "      <td>2.0</td>\n",
       "      <td>7.0</td>\n",
       "      <td>21.000000</td>\n",
       "      <td>16.000000</td>\n",
       "      <td>0.0</td>\n",
       "      <td>3.0</td>\n",
       "      <td>1.0</td>\n",
       "      <td>1.0</td>\n",
       "      <td>0.0</td>\n",
       "      <td>64.000000</td>\n",
       "    </tr>\n",
       "    <tr>\n",
       "      <th>16</th>\n",
       "      <td>3.000000</td>\n",
       "      <td>0.0</td>\n",
       "      <td>1.0</td>\n",
       "      <td>1.0</td>\n",
       "      <td>3.000000</td>\n",
       "      <td>0.000000</td>\n",
       "      <td>0.0</td>\n",
       "      <td>1.0</td>\n",
       "      <td>0.0</td>\n",
       "      <td>1.0</td>\n",
       "      <td>0.0</td>\n",
       "      <td>10.000000</td>\n",
       "    </tr>\n",
       "    <tr>\n",
       "      <th>17</th>\n",
       "      <td>2.666667</td>\n",
       "      <td>0.0</td>\n",
       "      <td>1.5</td>\n",
       "      <td>0.0</td>\n",
       "      <td>1.000000</td>\n",
       "      <td>1.000000</td>\n",
       "      <td>3.0</td>\n",
       "      <td>1.0</td>\n",
       "      <td>0.0</td>\n",
       "      <td>1.0</td>\n",
       "      <td>0.0</td>\n",
       "      <td>11.166667</td>\n",
       "    </tr>\n",
       "    <tr>\n",
       "      <th>18</th>\n",
       "      <td>0.000000</td>\n",
       "      <td>2.0</td>\n",
       "      <td>0.0</td>\n",
       "      <td>0.0</td>\n",
       "      <td>0.000000</td>\n",
       "      <td>0.000000</td>\n",
       "      <td>0.0</td>\n",
       "      <td>0.0</td>\n",
       "      <td>0.0</td>\n",
       "      <td>0.0</td>\n",
       "      <td>0.0</td>\n",
       "      <td>2.000000</td>\n",
       "    </tr>\n",
       "    <tr>\n",
       "      <th>19</th>\n",
       "      <td>0.000000</td>\n",
       "      <td>0.0</td>\n",
       "      <td>0.0</td>\n",
       "      <td>0.0</td>\n",
       "      <td>0.000000</td>\n",
       "      <td>0.000000</td>\n",
       "      <td>1.0</td>\n",
       "      <td>1.0</td>\n",
       "      <td>0.0</td>\n",
       "      <td>0.0</td>\n",
       "      <td>2.0</td>\n",
       "      <td>4.000000</td>\n",
       "    </tr>\n",
       "  </tbody>\n",
       "</table>\n",
       "</div>"
      ],
      "text/plain": [
       "          MMF  ERF   MF   BMA        ADL        PLS   EF  FATIGUE  PAIN  \\\n",
       "0    3.000000  2.0  1.5   1.0   2.000000   1.000000  1.0      2.0   0.0   \n",
       "1    2.000000  0.0  7.5   4.0   2.000000   1.250000  3.0      2.0   1.0   \n",
       "2    5.000000  7.0  5.0   5.0  13.714286   7.500000  4.0      4.0   1.0   \n",
       "4    6.000000  3.0  1.0   8.0   9.000000   2.500000  5.0      3.0   3.0   \n",
       "5    1.000000  0.0  0.0   0.0   1.000000   0.000000  6.0      2.0   1.0   \n",
       "6    5.000000  3.0  1.0  10.0  15.000000   2.000000  0.0      1.0   1.0   \n",
       "7    3.000000  1.0  1.0   3.0   1.000000   0.000000  5.0      0.0   1.0   \n",
       "8   10.000000  1.0  3.0   7.0  13.000000  11.000000  2.0      4.0   3.0   \n",
       "9    2.000000  3.0  1.5   2.0   1.000000   1.000000  5.0      2.0   0.0   \n",
       "10   5.000000  4.5  3.0   6.0   9.142857   8.750000  6.0      1.0   0.0   \n",
       "11   2.666667  3.0  5.0   9.0   8.000000  12.000000  3.0      2.0   0.0   \n",
       "12   4.000000  4.0  1.0   7.0  14.000000   7.000000  3.0      1.0   3.0   \n",
       "13   4.000000  3.0  1.0   0.0   0.000000   1.666667  5.0      1.0   0.0   \n",
       "14   5.000000  3.0  4.0   4.0   3.000000   0.000000  0.0      2.0   1.0   \n",
       "15   8.000000  5.0  2.0   7.0  21.000000  16.000000  0.0      3.0   1.0   \n",
       "16   3.000000  0.0  1.0   1.0   3.000000   0.000000  0.0      1.0   0.0   \n",
       "17   2.666667  0.0  1.5   0.0   1.000000   1.000000  3.0      1.0   0.0   \n",
       "18   0.000000  2.0  0.0   0.0   0.000000   0.000000  0.0      0.0   0.0   \n",
       "19   0.000000  0.0  0.0   0.0   0.000000   0.000000  1.0      1.0   0.0   \n",
       "\n",
       "    SPEECH  SEEING       MSIP  \n",
       "0      1.0     1.0  15.500000  \n",
       "1      1.0     1.0  24.750000  \n",
       "2      0.0     1.0  53.214286  \n",
       "4      1.0     0.0  35.750000  \n",
       "5      0.0     1.0  12.000000  \n",
       "6      0.0     0.0  38.000000  \n",
       "7      0.0     0.0  15.000000  \n",
       "8      0.0     3.0  57.000000  \n",
       "9      0.0     1.0  18.500000  \n",
       "10     1.0     NaN  48.832143  \n",
       "11     1.0     1.0  41.433333  \n",
       "12     1.0     1.0  46.000000  \n",
       "13     0.0     0.0  15.666667  \n",
       "14     1.0     0.0  23.000000  \n",
       "15     1.0     0.0  64.000000  \n",
       "16     1.0     0.0  10.000000  \n",
       "17     1.0     0.0  11.166667  \n",
       "18     0.0     0.0   2.000000  \n",
       "19     0.0     2.0   4.000000  "
      ]
     },
     "execution_count": 29,
     "metadata": {},
     "output_type": "execute_result"
    }
   ],
   "source": [
    "filled_in_surveys[[\"MMF\",\"ERF\",\"MF\",\"BMA\",\"ADL\",\"PLS\",\"EF\",\"FATIGUE\",\"PAIN\",\"SPEECH\",\"SEEING\",\"MSIP\"]]"
   ]
  },
  {
   "cell_type": "code",
   "execution_count": 31,
   "metadata": {},
   "outputs": [],
   "source": [
    "filled_in_surveys.to_csv('../Family_study_MS_csv_export/scored.csv', sep=';', na_rep=\"NaN\", decimal=\",\")"
   ]
  }
 ],
 "metadata": {
  "kernelspec": {
   "display_name": "Python 3",
   "language": "python",
   "name": "python3"
  },
  "language_info": {
   "codemirror_mode": {
    "name": "ipython",
    "version": 3
   },
   "file_extension": ".py",
   "mimetype": "text/x-python",
   "name": "python",
   "nbconvert_exporter": "python",
   "pygments_lexer": "ipython3",
   "version": "3.7.0"
  }
 },
 "nbformat": 4,
 "nbformat_minor": 2
}
